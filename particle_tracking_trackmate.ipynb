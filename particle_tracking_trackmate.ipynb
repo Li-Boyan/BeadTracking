{
 "cells": [
  {
   "cell_type": "markdown",
   "id": "19858302-083b-4132-aede-e340e2612395",
   "metadata": {
    "execution": {
     "iopub.execute_input": "2022-10-06T19:34:32.856274Z",
     "iopub.status.busy": "2022-10-06T19:34:32.855911Z",
     "iopub.status.idle": "2022-10-06T19:34:32.858610Z",
     "shell.execute_reply": "2022-10-06T19:34:32.858218Z",
     "shell.execute_reply.started": "2022-10-06T19:34:32.856248Z"
    },
    "tags": []
   },
   "source": [
    "# Load modules"
   ]
  },
  {
   "cell_type": "code",
   "execution_count": 1,
   "id": "cf07a7e6-f8dd-4812-814e-6095a89b1684",
   "metadata": {
    "execution": {
     "iopub.execute_input": "2022-10-18T05:26:24.970178Z",
     "iopub.status.busy": "2022-10-18T05:26:24.970047Z",
     "iopub.status.idle": "2022-10-18T05:26:25.568663Z",
     "shell.execute_reply": "2022-10-18T05:26:25.568248Z",
     "shell.execute_reply.started": "2022-10-18T05:26:24.970134Z"
    },
    "scrolled": true,
    "tags": []
   },
   "outputs": [],
   "source": [
    "import os\n",
    "\n",
    "import imagej\n",
    "import ipywidgets\n",
    "import numpy as np\n",
    "import pandas as np\n",
    "import scyjava as sj\n",
    "import skimage\n",
    "import xarray\n",
    "from pims import ND2Reader_SDK, pipeline\n",
    "import matplotlib.pyplot as plt"
   ]
  },
  {
   "cell_type": "code",
   "execution_count": 2,
   "id": "cd12970b-6cbe-4c2c-972b-d6c72ab4d163",
   "metadata": {
    "execution": {
     "iopub.execute_input": "2022-10-18T05:26:25.569604Z",
     "iopub.status.busy": "2022-10-18T05:26:25.569365Z",
     "iopub.status.idle": "2022-10-18T05:26:28.722226Z",
     "shell.execute_reply": "2022-10-18T05:26:28.721887Z",
     "shell.execute_reply.started": "2022-10-18T05:26:25.569593Z"
    },
    "scrolled": true,
    "tags": []
   },
   "outputs": [
    {
     "name": "stdout",
     "output_type": "stream",
     "text": [
      "01:26:26.757 [SciJava-37b72ea-Thread-0] DEBUG loci.formats.ClassList - Could not find loci.formats.in.URLReader\n",
      "java.lang.ClassNotFoundException: loci.formats.in.URLReader\n",
      "\tat java.base/jdk.internal.loader.BuiltinClassLoader.loadClass(BuiltinClassLoader.java:641)\n",
      "\tat java.base/jdk.internal.loader.ClassLoaders$AppClassLoader.loadClass(ClassLoaders.java:188)\n",
      "\tat java.base/java.lang.ClassLoader.loadClass(ClassLoader.java:520)\n",
      "\tat java.base/java.lang.Class.forName0(Native Method)\n",
      "\tat java.base/java.lang.Class.forName(Class.java:375)\n",
      "\tat loci.formats.ClassList.parseLine(ClassList.java:196)\n",
      "\tat loci.formats.ClassList.parseFile(ClassList.java:258)\n",
      "\tat loci.formats.ClassList.<init>(ClassList.java:138)\n",
      "\tat loci.formats.ClassList.<init>(ClassList.java:122)\n",
      "\tat loci.formats.ImageReader.getDefaultReaderClasses(ImageReader.java:80)\n",
      "\tat io.scif.bf.BioFormatsFormat.cacheReaderClasses(BioFormatsFormat.java:538)\n",
      "\tat io.scif.bf.BioFormatsFormat.<init>(BioFormatsFormat.java:139)\n",
      "\tat java.base/jdk.internal.reflect.NativeConstructorAccessorImpl.newInstance0(Native Method)\n",
      "\tat java.base/jdk.internal.reflect.NativeConstructorAccessorImpl.newInstance(NativeConstructorAccessorImpl.java:77)\n",
      "\tat java.base/jdk.internal.reflect.DelegatingConstructorAccessorImpl.newInstance(DelegatingConstructorAccessorImpl.java:45)\n",
      "\tat java.base/java.lang.reflect.Constructor.newInstanceWithCaller(Constructor.java:499)\n",
      "\tat java.base/java.lang.reflect.ReflectAccess.newInstance(ReflectAccess.java:128)\n",
      "\tat java.base/jdk.internal.reflect.ReflectionFactory.newInstance(ReflectionFactory.java:347)\n",
      "\tat java.base/java.lang.Class.newInstance(Class.java:645)\n",
      "\tat org.scijava.plugin.PluginInfo.createInstance(PluginInfo.java:304)\n",
      "\tat org.scijava.plugin.DefaultPluginService.createInstance(DefaultPluginService.java:234)\n",
      "\tat org.scijava.plugin.DefaultPluginService.createInstances(DefaultPluginService.java:223)\n",
      "\tat org.scijava.plugin.DefaultPluginService.createInstancesOfType(DefaultPluginService.java:214)\n",
      "\tat io.scif.services.DefaultFormatService.lambda$initialize$0(DefaultFormatService.java:459)\n",
      "\tat org.scijava.thread.DefaultThreadService.lambda$wrap$1(DefaultThreadService.java:211)\n",
      "\tat java.base/java.util.concurrent.Executors$RunnableAdapter.call(Executors.java:539)\n",
      "\tat java.base/java.util.concurrent.FutureTask.run(FutureTask.java:264)\n",
      "\tat java.base/java.util.concurrent.ThreadPoolExecutor.runWorker(ThreadPoolExecutor.java:1136)\n",
      "\tat java.base/java.util.concurrent.ThreadPoolExecutor$Worker.run(ThreadPoolExecutor.java:635)\n",
      "\tat java.base/java.lang.Thread.run(Thread.java:833)\n",
      "01:26:26.761 [SciJava-37b72ea-Thread-0] DEBUG loci.formats.ClassList - Could not find loci.formats.in.SlideBook6Reader\n",
      "java.lang.ClassNotFoundException: loci.formats.in.SlideBook6Reader\n",
      "\tat java.base/jdk.internal.loader.BuiltinClassLoader.loadClass(BuiltinClassLoader.java:641)\n",
      "\tat java.base/jdk.internal.loader.ClassLoaders$AppClassLoader.loadClass(ClassLoaders.java:188)\n",
      "\tat java.base/java.lang.ClassLoader.loadClass(ClassLoader.java:520)\n",
      "\tat java.base/java.lang.Class.forName0(Native Method)\n",
      "\tat java.base/java.lang.Class.forName(Class.java:375)\n",
      "\tat loci.formats.ClassList.parseLine(ClassList.java:196)\n",
      "\tat loci.formats.ClassList.parseFile(ClassList.java:258)\n",
      "\tat loci.formats.ClassList.<init>(ClassList.java:138)\n",
      "\tat loci.formats.ClassList.<init>(ClassList.java:122)\n",
      "\tat loci.formats.ImageReader.getDefaultReaderClasses(ImageReader.java:80)\n",
      "\tat io.scif.bf.BioFormatsFormat.cacheReaderClasses(BioFormatsFormat.java:538)\n",
      "\tat io.scif.bf.BioFormatsFormat.<init>(BioFormatsFormat.java:139)\n",
      "\tat java.base/jdk.internal.reflect.NativeConstructorAccessorImpl.newInstance0(Native Method)\n",
      "\tat java.base/jdk.internal.reflect.NativeConstructorAccessorImpl.newInstance(NativeConstructorAccessorImpl.java:77)\n",
      "\tat java.base/jdk.internal.reflect.DelegatingConstructorAccessorImpl.newInstance(DelegatingConstructorAccessorImpl.java:45)\n",
      "\tat java.base/java.lang.reflect.Constructor.newInstanceWithCaller(Constructor.java:499)\n",
      "\tat java.base/java.lang.reflect.ReflectAccess.newInstance(ReflectAccess.java:128)\n",
      "\tat java.base/jdk.internal.reflect.ReflectionFactory.newInstance(ReflectionFactory.java:347)\n",
      "\tat java.base/java.lang.Class.newInstance(Class.java:645)\n",
      "\tat org.scijava.plugin.PluginInfo.createInstance(PluginInfo.java:304)\n",
      "\tat org.scijava.plugin.DefaultPluginService.createInstance(DefaultPluginService.java:234)\n",
      "\tat org.scijava.plugin.DefaultPluginService.createInstances(DefaultPluginService.java:223)\n",
      "\tat org.scijava.plugin.DefaultPluginService.createInstancesOfType(DefaultPluginService.java:214)\n",
      "\tat io.scif.services.DefaultFormatService.lambda$initialize$0(DefaultFormatService.java:459)\n",
      "\tat org.scijava.thread.DefaultThreadService.lambda$wrap$1(DefaultThreadService.java:211)\n",
      "\tat java.base/java.util.concurrent.Executors$RunnableAdapter.call(Executors.java:539)\n",
      "\tat java.base/java.util.concurrent.FutureTask.run(FutureTask.java:264)\n",
      "\tat java.base/java.util.concurrent.ThreadPoolExecutor.runWorker(ThreadPoolExecutor.java:1136)\n",
      "\tat java.base/java.util.concurrent.ThreadPoolExecutor$Worker.run(ThreadPoolExecutor.java:635)\n",
      "\tat java.base/java.lang.Thread.run(Thread.java:833)\n",
      "01:26:26.762 [SciJava-37b72ea-Thread-0] DEBUG loci.formats.ClassList - Could not find loci.formats.in.ScreenReader\n",
      "java.lang.ClassNotFoundException: loci.formats.in.ScreenReader\n",
      "\tat java.base/jdk.internal.loader.BuiltinClassLoader.loadClass(BuiltinClassLoader.java:641)\n",
      "\tat java.base/jdk.internal.loader.ClassLoaders$AppClassLoader.loadClass(ClassLoaders.java:188)\n",
      "\tat java.base/java.lang.ClassLoader.loadClass(ClassLoader.java:520)\n",
      "\tat java.base/java.lang.Class.forName0(Native Method)\n",
      "\tat java.base/java.lang.Class.forName(Class.java:375)\n",
      "\tat loci.formats.ClassList.parseLine(ClassList.java:196)\n",
      "\tat loci.formats.ClassList.parseFile(ClassList.java:258)\n",
      "\tat loci.formats.ClassList.<init>(ClassList.java:138)\n",
      "\tat loci.formats.ClassList.<init>(ClassList.java:122)\n",
      "\tat loci.formats.ImageReader.getDefaultReaderClasses(ImageReader.java:80)\n",
      "\tat io.scif.bf.BioFormatsFormat.cacheReaderClasses(BioFormatsFormat.java:538)\n",
      "\tat io.scif.bf.BioFormatsFormat.<init>(BioFormatsFormat.java:139)\n",
      "\tat java.base/jdk.internal.reflect.NativeConstructorAccessorImpl.newInstance0(Native Method)\n",
      "\tat java.base/jdk.internal.reflect.NativeConstructorAccessorImpl.newInstance(NativeConstructorAccessorImpl.java:77)\n",
      "\tat java.base/jdk.internal.reflect.DelegatingConstructorAccessorImpl.newInstance(DelegatingConstructorAccessorImpl.java:45)\n",
      "\tat java.base/java.lang.reflect.Constructor.newInstanceWithCaller(Constructor.java:499)\n",
      "\tat java.base/java.lang.reflect.ReflectAccess.newInstance(ReflectAccess.java:128)\n",
      "\tat java.base/jdk.internal.reflect.ReflectionFactory.newInstance(ReflectionFactory.java:347)\n",
      "\tat java.base/java.lang.Class.newInstance(Class.java:645)\n",
      "\tat org.scijava.plugin.PluginInfo.createInstance(PluginInfo.java:304)\n",
      "\tat org.scijava.plugin.DefaultPluginService.createInstance(DefaultPluginService.java:234)\n",
      "\tat org.scijava.plugin.DefaultPluginService.createInstances(DefaultPluginService.java:223)\n",
      "\tat org.scijava.plugin.DefaultPluginService.createInstancesOfType(DefaultPluginService.java:214)\n",
      "\tat io.scif.services.DefaultFormatService.lambda$initialize$0(DefaultFormatService.java:459)\n",
      "\tat org.scijava.thread.DefaultThreadService.lambda$wrap$1(DefaultThreadService.java:211)\n",
      "\tat java.base/java.util.concurrent.Executors$RunnableAdapter.call(Executors.java:539)\n",
      "\tat java.base/java.util.concurrent.FutureTask.run(FutureTask.java:264)\n",
      "\tat java.base/java.util.concurrent.ThreadPoolExecutor.runWorker(ThreadPoolExecutor.java:1136)\n",
      "\tat java.base/java.util.concurrent.ThreadPoolExecutor$Worker.run(ThreadPoolExecutor.java:635)\n",
      "\tat java.base/java.lang.Thread.run(Thread.java:833)\n",
      "01:26:26.762 [SciJava-37b72ea-Thread-0] DEBUG loci.formats.ClassList - Could not find loci.formats.in.ZarrReader\n",
      "java.lang.ClassNotFoundException: loci.formats.in.ZarrReader\n",
      "\tat java.base/jdk.internal.loader.BuiltinClassLoader.loadClass(BuiltinClassLoader.java:641)\n",
      "\tat java.base/jdk.internal.loader.ClassLoaders$AppClassLoader.loadClass(ClassLoaders.java:188)\n",
      "\tat java.base/java.lang.ClassLoader.loadClass(ClassLoader.java:520)\n",
      "\tat java.base/java.lang.Class.forName0(Native Method)\n",
      "\tat java.base/java.lang.Class.forName(Class.java:375)\n",
      "\tat loci.formats.ClassList.parseLine(ClassList.java:196)\n",
      "\tat loci.formats.ClassList.parseFile(ClassList.java:258)\n",
      "\tat loci.formats.ClassList.<init>(ClassList.java:138)\n",
      "\tat loci.formats.ClassList.<init>(ClassList.java:122)\n",
      "\tat loci.formats.ImageReader.getDefaultReaderClasses(ImageReader.java:80)\n",
      "\tat io.scif.bf.BioFormatsFormat.cacheReaderClasses(BioFormatsFormat.java:538)\n",
      "\tat io.scif.bf.BioFormatsFormat.<init>(BioFormatsFormat.java:139)\n",
      "\tat java.base/jdk.internal.reflect.NativeConstructorAccessorImpl.newInstance0(Native Method)\n",
      "\tat java.base/jdk.internal.reflect.NativeConstructorAccessorImpl.newInstance(NativeConstructorAccessorImpl.java:77)\n",
      "\tat java.base/jdk.internal.reflect.DelegatingConstructorAccessorImpl.newInstance(DelegatingConstructorAccessorImpl.java:45)\n",
      "\tat java.base/java.lang.reflect.Constructor.newInstanceWithCaller(Constructor.java:499)\n",
      "\tat java.base/java.lang.reflect.ReflectAccess.newInstance(ReflectAccess.java:128)\n",
      "\tat java.base/jdk.internal.reflect.ReflectionFactory.newInstance(ReflectionFactory.java:347)\n",
      "\tat java.base/java.lang.Class.newInstance(Class.java:645)\n",
      "\tat org.scijava.plugin.PluginInfo.createInstance(PluginInfo.java:304)\n",
      "\tat org.scijava.plugin.DefaultPluginService.createInstance(DefaultPluginService.java:234)\n",
      "\tat org.scijava.plugin.DefaultPluginService.createInstances(DefaultPluginService.java:223)\n",
      "\tat org.scijava.plugin.DefaultPluginService.createInstancesOfType(DefaultPluginService.java:214)\n",
      "\tat io.scif.services.DefaultFormatService.lambda$initialize$0(DefaultFormatService.java:459)\n",
      "\tat org.scijava.thread.DefaultThreadService.lambda$wrap$1(DefaultThreadService.java:211)\n",
      "\tat java.base/java.util.concurrent.Executors$RunnableAdapter.call(Executors.java:539)\n",
      "\tat java.base/java.util.concurrent.FutureTask.run(FutureTask.java:264)\n",
      "\tat java.base/java.util.concurrent.ThreadPoolExecutor.runWorker(ThreadPoolExecutor.java:1136)\n",
      "\tat java.base/java.util.concurrent.ThreadPoolExecutor$Worker.run(ThreadPoolExecutor.java:635)\n",
      "\tat java.base/java.lang.Thread.run(Thread.java:833)\n",
      "ImageJ version: 2.9.0/1.53t\n"
     ]
    },
    {
     "name": "stderr",
     "output_type": "stream",
     "text": [
      "[ERROR] Cannot create plugin: org.scijava.plugins.scripting.javascript.JavaScriptScriptLanguage\n"
     ]
    },
    {
     "data": {
      "text/plain": [
       "'131.0300064086914 of 15837 MB (0%)'"
      ]
     },
     "execution_count": 2,
     "metadata": {},
     "output_type": "execute_result"
    }
   ],
   "source": [
    "# Configre ImageJ\n",
    "sj.config.add_option(\"-Xmx16g\")\n",
    "sj.config.add_option(\"-XX:ActiveProcessorCount=1\")\n",
    "ij = imagej.init(\"sc.fiji:fiji\")\n",
    "print(f\"ImageJ version: {ij.getVersion()}\")\n",
    "\n",
    "# Show memory used\n",
    "Runtime = sj.jimport('java.lang.Runtime')\n",
    "def java_mem():\n",
    "    rt = Runtime.getRuntime()\n",
    "    mem_max = rt.maxMemory()\n",
    "    mem_used = rt.totalMemory() - rt.freeMemory()\n",
    "    return '{} of {} MB ({}%)'.format(int(mem_used)/2**20, int(mem_max/2**20), int(100*mem_used/mem_max))\n",
    "\n",
    "java_mem()"
   ]
  },
  {
   "cell_type": "markdown",
   "id": "8b46c700-0857-4d2c-8a15-c573fea40129",
   "metadata": {
    "execution": {
     "iopub.execute_input": "2022-10-11T19:59:53.152813Z",
     "iopub.status.busy": "2022-10-11T19:59:53.152191Z",
     "iopub.status.idle": "2022-10-11T19:59:53.158626Z",
     "shell.execute_reply": "2022-10-11T19:59:53.157202Z",
     "shell.execute_reply.started": "2022-10-11T19:59:53.152772Z"
    }
   },
   "source": [
    "# Preprocessing"
   ]
  },
  {
   "cell_type": "markdown",
   "id": "cb824bde-c7b5-4e7a-92c4-9d7193ef1387",
   "metadata": {},
   "source": [
    "## Load nd2 file"
   ]
  },
  {
   "cell_type": "code",
   "execution_count": 3,
   "id": "dba1a68f-6753-4c80-9ba8-3fa1f411ab81",
   "metadata": {
    "execution": {
     "iopub.execute_input": "2022-10-18T05:26:28.724469Z",
     "iopub.status.busy": "2022-10-18T05:26:28.724233Z",
     "iopub.status.idle": "2022-10-18T05:26:31.041174Z",
     "shell.execute_reply": "2022-10-18T05:26:31.040746Z",
     "shell.execute_reply.started": "2022-10-18T05:26:28.724459Z"
    },
    "scrolled": true,
    "tags": []
   },
   "outputs": [
    {
     "name": "stderr",
     "output_type": "stream",
     "text": [
      "/home/liboyan/miniconda3/envs/mt/lib/python3.10/site-packages/pims/base_frames.py:478: UserWarning: Please call FramesSequenceND.__init__() at the start of thethe reader initialization.\n",
      "  warn(\"Please call FramesSequenceND.__init__() at the start of the\"\n"
     ]
    },
    {
     "data": {
      "image/png": "[encoded data removed]",
      "text/plain": [
       "<Figure size 600x300 with 2 Axes>"
      ]
     },
     "metadata": {},
     "output_type": "display_data"
    }
   ],
   "source": [
    "data_dir = \"../data/220930/\"\n",
    "data_file = \"220930_1um-beads.nd2\"\n",
    "dataset = ND2Reader_SDK(os.path.join(data_dir, data_file))\n",
    "dataset.iter_axes = \"c\"\n",
    "dataset.bundle_axes = \"tyx\"\n",
    "_, (ax1, ax2) = plt.subplots(1, 2, figsize=(6, 3))\n",
    "plt.subplots_adjust(hspace=0)\n",
    "ax1.imshow(dataset[0][0])\n",
    "ax2.imshow(dataset[1][0])\n",
    "for ax in [ax1, ax2]:\n",
    "    ax.axis(\"off\")"
   ]
  },
  {
   "cell_type": "markdown",
   "id": "6f4c8e96-b575-4481-bbbb-8293b710baaa",
   "metadata": {},
   "source": [
    "## Prepare data for tracking"
   ]
  },
  {
   "cell_type": "code",
   "execution_count": 4,
   "id": "8435b925-9404-4d93-b035-3799f02f544e",
   "metadata": {
    "execution": {
     "iopub.execute_input": "2022-10-18T05:26:31.041904Z",
     "iopub.status.busy": "2022-10-18T05:26:31.041749Z",
     "iopub.status.idle": "2022-10-18T05:26:32.497808Z",
     "shell.execute_reply": "2022-10-18T05:26:32.497383Z",
     "shell.execute_reply.started": "2022-10-18T05:26:31.041893Z"
    },
    "scrolled": true,
    "tags": []
   },
   "outputs": [
    {
     "name": "stdout",
     "output_type": "stream",
     "text": [
      "Sizes of the input data: {'x': 2048, 'y': 2048, 'c': 2, 't': 121}\n"
     ]
    },
    {
     "name": "stderr",
     "output_type": "stream",
     "text": [
      "Operating in headless mode - the original ImageJ will have limited functionality.\n"
     ]
    },
    {
     "name": "stdout",
     "output_type": "stream",
     "text": [
      "Data type:\t <java class 'ij.ImagePlus'>\n",
      "Data shape:\t (2048, 2048, 121)\n",
      "Data dimensions:\t ('X', 'Y', 'T')\n"
     ]
    }
   ],
   "source": [
    "MT_CHANNEL = 0\n",
    "TRACK_CHANNEL = 1\n",
    "\n",
    "print(\"Sizes of the input data:\", dataset.sizes)\n",
    "\n",
    "xdataset = xarray.DataArray(dataset[TRACK_CHANNEL], name=\"testimg\", dims=(\"t\", \"row\", \"col\"))\n",
    "\n",
    "jxdataset = ij.py.to_imageplus(xdataset)\n",
    "print(\"Data type:\\t\", type(jxdataset))\n",
    "print(\"Data shape:\\t\", jxdataset.shape)\n",
    "print(\"Data dimensions:\\t\", jxdataset.dims)"
   ]
  },
  {
   "cell_type": "markdown",
   "id": "1e3bc7d1-4c5a-4c4b-8c6a-e4a2b40df203",
   "metadata": {},
   "source": [
    "# Model configurations"
   ]
  },
  {
   "cell_type": "code",
   "execution_count": 5,
   "id": "0248c3b3-2cfc-43b5-99ab-0c7d46daa789",
   "metadata": {
    "execution": {
     "iopub.execute_input": "2022-10-18T05:26:34.417158Z",
     "iopub.status.busy": "2022-10-18T05:26:34.416183Z",
     "iopub.status.idle": "2022-10-18T05:26:34.464209Z",
     "shell.execute_reply": "2022-10-18T05:26:34.463812Z",
     "shell.execute_reply.started": "2022-10-18T05:26:34.417109Z"
    },
    "scrolled": true,
    "tags": []
   },
   "outputs": [],
   "source": [
    "# Model\n",
    "trackmate_model = sj.jimport(\"fiji.plugin.trackmate.Model\")\n",
    "model = trackmate_model()\n",
    "\n",
    "# Log\n",
    "trackmate_logger = sj.jimport(\"fiji.plugin.trackmate.Logger\")\n",
    "model.setLogger(trackmate_logger.IJ_LOGGER)\n",
    "\n",
    "# Settings\n",
    "trackmate_settings = sj.jimport(\"fiji.plugin.trackmate.Settings\")\n",
    "settings = trackmate_settings(jxdataset)\n",
    "\n",
    "# Configure detector\n",
    "LogDetectorFactory = sj.jimport(\"fiji.plugin.trackmate.detection.LogDetectorFactory\")\n",
    "settings.detectorFactory = LogDetectorFactory()\n",
    "settings.detectorSettings = {\n",
    "    \"DO_SUBPIXEL_LOCALIZATION\": True,\n",
    "    \"RADIUS\": 7.0,\n",
    "    \"TARGET_CHANNEL\": ij.py.to_java(1),\n",
    "    \"THRESHOLD\": 0.0,\n",
    "    \"DO_MEDIAN_FILTERING\": True,\n",
    "}\n",
    "\n",
    "# Spot filter\n",
    "trackmate_featurefilter = sj.jimport(\"fiji.plugin.trackmate.features.FeatureFilter\")\n",
    "filter1 = trackmate_featurefilter(\"QUALITY\", 30, True)\n",
    "settings.addSpotFilter(filter1)"
   ]
  },
  {
   "cell_type": "code",
   "execution_count": 6,
   "id": "0e5d146d-ad55-4e8c-9750-8754ce52efe1",
   "metadata": {
    "execution": {
     "iopub.execute_input": "2022-10-18T05:26:35.987521Z",
     "iopub.status.busy": "2022-10-18T05:26:35.987351Z",
     "iopub.status.idle": "2022-10-18T05:26:36.004352Z",
     "shell.execute_reply": "2022-10-18T05:26:36.002987Z",
     "shell.execute_reply.started": "2022-10-18T05:26:35.987510Z"
    }
   },
   "outputs": [],
   "source": [
    "TrackMate = sj.jimport(\"fiji.plugin.trackmate.TrackMate\")\n",
    "trackmate = TrackMate(model, settings)"
   ]
  },
  {
   "cell_type": "code",
   "execution_count": 7,
   "id": "ad090a1b-7c35-4dc9-a3cb-e27e71568305",
   "metadata": {
    "execution": {
     "iopub.execute_input": "2022-10-18T05:26:36.948188Z",
     "iopub.status.busy": "2022-10-18T05:26:36.946982Z",
     "iopub.status.idle": "2022-10-18T05:29:31.247355Z",
     "shell.execute_reply": "2022-10-18T05:29:31.246031Z",
     "shell.execute_reply.started": "2022-10-18T05:26:36.948143Z"
    },
    "scrolled": true,
    "tags": []
   },
   "outputs": [
    {
     "name": "stdout",
     "output_type": "stream",
     "text": [
      "Starting detection process using 1 thread.\n",
      "\n"
     ]
    },
    {
     "name": "stderr",
     "output_type": "stream",
     "text": [
      "[java.lang.Enum.toString] Starting detection process using 1 thread.\n",
      "[java.lang.Enum.toString] \n"
     ]
    },
    {
     "name": "stdout",
     "output_type": "stream",
     "text": [
      "Detection processes 1 frame simultaneously and allocates 1 thread per frame.\n",
      "\n"
     ]
    },
    {
     "name": "stderr",
     "output_type": "stream",
     "text": [
      "[java.lang.Enum.toString] Detection processes 1 frame simultaneously and allocates 1 thread per frame.\n",
      "[java.lang.Enum.toString] \n"
     ]
    },
    {
     "name": "stdout",
     "output_type": "stream",
     "text": [
      "Found 1070660 spots.\n",
      "\n",
      "Starting initial filtering process.\n",
      "\n"
     ]
    },
    {
     "name": "stderr",
     "output_type": "stream",
     "text": [
      "[java.lang.Enum.toString] Found 1070660 spots.\n",
      "[java.lang.Enum.toString] \n",
      "[java.lang.Enum.toString] Starting initial filtering process.\n",
      "[java.lang.Enum.toString] \n"
     ]
    },
    {
     "name": "stdout",
     "output_type": "stream",
     "text": [
      "Computing spot features over 1 frame simultaneously and allocating 1 thread per frame.\n",
      "\n",
      "Computation done in 2058 ms.\n",
      "\n",
      "Starting spot filtering process.\n",
      "\n",
      "Starting tracking process.\n",
      "\n",
      "Tracker factory is not defined. Skipping tracking.\n",
      "\n",
      "Computing edge features:\n",
      "\n",
      "Computation done in 0 ms.\n",
      "\n",
      "Computing track features:\n",
      "\n",
      "Computation done in 1 ms.\n",
      "\n",
      "Starting track filtering process.\n",
      "\n"
     ]
    },
    {
     "name": "stderr",
     "output_type": "stream",
     "text": [
      "[java.lang.Enum.toString] Computing spot features over 1 frame simultaneously and allocating 1 thread per frame.\n",
      "[java.lang.Enum.toString] \n",
      "[java.lang.Enum.toString] Computation done in 2058 ms.\n",
      "[java.lang.Enum.toString] \n",
      "[java.lang.Enum.toString] Starting spot filtering process.\n",
      "[java.lang.Enum.toString] \n",
      "[java.lang.Enum.toString] Starting tracking process.\n",
      "[java.lang.Enum.toString] \n",
      "[java.lang.Enum.toString] Tracker factory is not defined. Skipping tracking.\n",
      "[java.lang.Enum.toString] \n",
      "[java.lang.Enum.toString] Computing edge features:\n",
      "[java.lang.Enum.toString] \n",
      "[java.lang.Enum.toString] Computation done in 0 ms.\n",
      "[java.lang.Enum.toString] \n",
      "[java.lang.Enum.toString] Computing track features:\n",
      "[java.lang.Enum.toString] \n",
      "[java.lang.Enum.toString] Computation done in 1 ms.\n",
      "[java.lang.Enum.toString] \n",
      "[java.lang.Enum.toString] Starting track filtering process.\n",
      "[java.lang.Enum.toString] \n"
     ]
    }
   ],
   "source": [
    "if not trackmate.process():\n",
    "    print(str(trackmate.getErrorMessage()))"
   ]
  },
  {
   "cell_type": "code",
   "execution_count": 1,
   "id": "cf7e2e4e-7cc6-41e2-a4b8-cd86856dfbea",
   "metadata": {
    "execution": {
     "iopub.execute_input": "2022-10-18T05:51:24.220036Z",
     "iopub.status.busy": "2022-10-18T05:51:24.219710Z",
     "iopub.status.idle": "2022-10-18T05:51:24.480867Z",
     "shell.execute_reply": "2022-10-18T05:51:24.479553Z",
     "shell.execute_reply.started": "2022-10-18T05:51:24.219991Z"
    },
    "tags": []
   },
   "outputs": [
    {
     "ename": "NameError",
     "evalue": "name 'model' is not defined",
     "output_type": "error",
     "traceback": [
      "\u001b[0;31m---------------------------------------------------------------------------\u001b[0m",
      "\u001b[0;31mNameError\u001b[0m                                 Traceback (most recent call last)",
      "Cell \u001b[0;32mIn [1], line 1\u001b[0m\n\u001b[0;32m----> 1\u001b[0m fm \u001b[38;5;241m=\u001b[39m \u001b[43mmodel\u001b[49m\u001b[38;5;241m.\u001b[39mgetFeatureModel()\n\u001b[1;32m      2\u001b[0m \u001b[38;5;28mprint\u001b[39m(fm)\n",
      "\u001b[0;31mNameError\u001b[0m: name 'model' is not defined"
     ]
    }
   ],
   "source": [
    "fm = model.getFeatureModel()\n",
    "print(fm)"
   ]
  },
  {
   "cell_type": "markdown",
   "id": "0020fd15-697f-47a4-b036-545d528d4d82",
   "metadata": {},
   "source": [
    "# Tracking"
   ]
  },
  {
   "cell_type": "code",
   "execution_count": 7,
   "id": "29636109-d454-4e41-86ba-199990f6ec49",
   "metadata": {
    "execution": {
     "iopub.execute_input": "2022-10-18T05:09:21.510535Z",
     "iopub.status.busy": "2022-10-18T05:09:21.510172Z",
     "iopub.status.idle": "2022-10-18T05:09:21.514903Z",
     "shell.execute_reply": "2022-10-18T05:09:21.514538Z",
     "shell.execute_reply.started": "2022-10-18T05:09:21.510521Z"
    },
    "scrolled": true,
    "tags": []
   },
   "outputs": [],
   "source": [
    "# Tracker\n",
    "SparseLAPTrackerFactory = sj.jimport(\n",
    "    \"fiji.plugin.trackmate.tracking.sparselap.SparseLAPTrackerFactory\"\n",
    ")\n",
    "LAPUtils = sj.jimport(\"fiji.plugin.trackmate.tracking.LAPUtils\")\n",
    "settings.trackerFactory = SparseLAPTrackerFactory()\n",
    "settings.trackerSettings = LAPUtils.getDefaultLAPSettingsMap()  # almost good enough\n",
    "settings.trackerSettings['LINKING_MAX_DISTANCE'] = 7.0\n",
    "settings.trackerSettings['GAP_CLOSING_MAX_DISTANCE'] = 10.0\n",
    "settings.trackerSettings['MAX_FRAME_GAP'] = 3\n",
    "settings.addAllAnalyzers()\n",
    "\n",
    "# Filter tracks\n",
    "filter2 = trackmate_featurefilter(\"TRACK_DISPLACEMENT\", 10, True)\n",
    "settings.addTrackFilter(filter2)\n",
    "\n",
    "TrackMate = sj.jimport(\"fiji.plugin.trackmate.TrackMate\")\n",
    "trackmate = TrackMate(model, settings)"
   ]
  },
  {
   "cell_type": "markdown",
   "id": "874efcff-b5fb-48e7-a7be-3a9eb3ebba2f",
   "metadata": {},
   "source": [
    "# Export results"
   ]
  },
  {
   "cell_type": "code",
   "execution_count": 84,
   "id": "e6f6bd04-c4a2-4ca2-b654-4c9121b1cfc8",
   "metadata": {
    "execution": {
     "iopub.execute_input": "2022-10-18T03:19:20.628431Z",
     "iopub.status.busy": "2022-10-18T03:19:20.627083Z",
     "iopub.status.idle": "2022-10-18T03:19:20.643071Z",
     "shell.execute_reply": "2022-10-18T03:19:20.641640Z",
     "shell.execute_reply.started": "2022-10-18T03:19:20.628380Z"
    },
    "tags": []
   },
   "outputs": [
    {
     "name": "stdout",
     "output_type": "stream",
     "text": [
      "Found 0 tracks."
     ]
    },
    {
     "name": "stderr",
     "output_type": "stream",
     "text": [
      "[java.lang.Enum.toString] Found 0 tracks.[java.lang.Enum.toString] \n"
     ]
    },
    {
     "name": "stdout",
     "output_type": "stream",
     "text": [
      "\n"
     ]
    }
   ],
   "source": [
    "model.getLogger().log(\"Found \" + str(model.getTrackModel().nTracks(True)) + \" tracks.\")\n",
    "\n",
    "# The feature model, that stores edge and track features.\n",
    "fm = model.getFeatureModel()\n",
    "\n",
    "# Iterate over all the tracks that are visible.\n",
    "for id in model.getTrackModel().trackIDs(True):\n",
    "\n",
    "    # Fetch the track feature from the feature model.\n",
    "    v = fm.getTrackFeature(id, \"TRACK_MEAN_SPEED\")\n",
    "    model.getLogger().log(\"\")\n",
    "    model.getLogger().log(\n",
    "        \"Track \"\n",
    "        + str(id)\n",
    "        + \": mean velocity = \"\n",
    "        + str(v)\n",
    "        + \" \"\n",
    "        + str(model.getSpaceUnits())\n",
    "        + \"/\"\n",
    "        + str(model.getTimeUnits())\n",
    "    )\n",
    "\n",
    "    # Get all the spots of the current track.\n",
    "    track = model.getTrackModel().trackSpots(id)\n",
    "    for spot in track:\n",
    "        sid = spot.ID()\n",
    "        # Fetch spot features directly from spot.\n",
    "        # Note that for spots the feature values are not stored in the FeatureModel\n",
    "        # object, but in the Spot object directly. This is an exception; for tracks\n",
    "        # and edges, you have to query the feature model.\n",
    "        x = spot.getFeature(\"POSITION_X\")\n",
    "        y = spot.getFeature(\"POSITION_Y\")\n",
    "        t = spot.getFeature(\"FRAME\")\n",
    "        q = spot.getFeature(\"QUALITY\")\n",
    "        snr = spot.getFeature(\"SNR_CH1\")\n",
    "        mean = spot.getFeature(\"MEAN_INTENSITY_CH1\")\n",
    "        model.getLogger().log(\n",
    "            \"\\tspot ID = \"\n",
    "            + str(sid)\n",
    "            + \": x=\"\n",
    "            + str(x)\n",
    "            + \", y=\"\n",
    "            + str(y)\n",
    "            + \", t=\"\n",
    "            + str(t)\n",
    "            + \", q=\"\n",
    "            + str(q)\n",
    "            + \", snr=\"\n",
    "            + str(snr)\n",
    "            + \", mean = \"\n",
    "            + str(mean)\n",
    "        )"
   ]
  },
  {
   "cell_type": "code",
   "execution_count": null,
   "id": "c479349e-c675-4c97-88b1-eae809ec52c3",
   "metadata": {
    "tags": []
   },
   "outputs": [],
   "source": [
    "def plane(image, pos):\n",
    "    p = tuple(\n",
    "        pos[image.dims[d]] if image.dims[d] in pos else slice(None)\n",
    "        for d in range(image.ndim)\n",
    "    )\n",
    "    return image[p]\n",
    "\n",
    "\n",
    "def ndshow(image, cmap=None, immediate=False):\n",
    "    widgets = {}\n",
    "    for d in range(image.ndim):\n",
    "        if image.dims[d].lower() == \"x\" or image.dims[d].lower() == \"y\":\n",
    "            continue\n",
    "        label = image.dims[d]\n",
    "        widgets[label] = ipywidgets.IntSlider(\n",
    "            description=label, max=image.shape[d] - 1, continuous_update=immediate\n",
    "        )\n",
    "\n",
    "    def recalc(**kwargs):\n",
    "        ij.py.show(plane(image, kwargs), cmap=cmap)\n",
    "\n",
    "    ipywidgets.interact(recalc, **widgets)\n",
    "\n",
    "\n",
    "ndshow(jxdataset)"
   ]
  },
  {
   "cell_type": "markdown",
   "id": "f0c7ce06-af46-49ee-9b8d-444c92466281",
   "metadata": {},
   "source": [
    "# *Supplementary: parameters for TrackMate*"
   ]
  },
  {
   "cell_type": "markdown",
   "id": "9b43cb5d-f261-45aa-9edc-8c0dde1a7b03",
   "metadata": {},
   "source": [
    "## Tracker settings"
   ]
  },
  {
   "cell_type": "code",
   "execution_count": 30,
   "id": "6f2c3a91-2fa0-46cc-a64d-1a36e2e9f279",
   "metadata": {
    "execution": {
     "iopub.execute_input": "2022-10-18T04:11:09.477162Z",
     "iopub.status.busy": "2022-10-18T04:11:09.476789Z",
     "iopub.status.idle": "2022-10-18T04:11:09.484728Z",
     "shell.execute_reply": "2022-10-18T04:11:09.484400Z",
     "shell.execute_reply.started": "2022-10-18T04:11:09.477134Z"
    },
    "tags": []
   },
   "outputs": [
    {
     "name": "stdout",
     "output_type": "stream",
     "text": [
      "MAX_FRAME_GAP \t 2\n",
      "ALTERNATIVE_LINKING_COST_FACTOR \t 1.05\n",
      "LINKING_FEATURE_PENALTIES \t {}\n",
      "LINKING_MAX_DISTANCE \t 15.0\n",
      "GAP_CLOSING_MAX_DISTANCE \t 15.0\n",
      "MERGING_FEATURE_PENALTIES \t {}\n",
      "SPLITTING_MAX_DISTANCE \t 15.0\n",
      "BLOCKING_VALUE \t inf\n",
      "ALLOW_GAP_CLOSING \t True\n",
      "ALLOW_TRACK_SPLITTING \t False\n",
      "ALLOW_TRACK_MERGING \t False\n",
      "MERGING_MAX_DISTANCE \t 15.0\n",
      "SPLITTING_FEATURE_PENALTIES \t {}\n",
      "CUTOFF_PERCENTILE \t 0.9\n",
      "GAP_CLOSING_FEATURE_PENALTIES \t {}\n"
     ]
    }
   ],
   "source": [
    "SparseLAPTrackerFactory = sj.jimport(\n",
    "    \"fiji.plugin.trackmate.tracking.sparselap.SparseLAPTrackerFactory\"\n",
    ")\n",
    "LAPUtils = sj.jimport(\"fiji.plugin.trackmate.tracking.LAPUtils\")\n",
    "settings.trackerFactory = SparseLAPTrackerFactory()\n",
    "settings.trackerSettings = LAPUtils.getDefaultLAPSettingsMap()  # almost good enough\n",
    "for k, v in settings.trackerSettings.items():\n",
    "    print(k, \"\\t\", v)"
   ]
  }
 ],
 "metadata": {
  "kernelspec": {
   "display_name": "Python 3 (ipykernel)",
   "language": "python",
   "name": "python3"
  },
  "language_info": {
   "codemirror_mode": {
    "name": "ipython",
    "version": 3
   },
   "file_extension": ".py",
   "mimetype": "text/x-python",
   "name": "python",
   "nbconvert_exporter": "python",
   "pygments_lexer": "ipython3",
   "version": "3.10.6"
  },
  "widgets": {
   "application/vnd.jupyter.widget-state+json": {
    "state": {},
    "version_major": 2,
    "version_minor": 0
   }
  }
 },
 "nbformat": 4,
 "nbformat_minor": 5
}
